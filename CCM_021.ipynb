{
 "cells": [
  {
   "cell_type": "code",
   "execution_count": null,
   "metadata": {},
   "outputs": [],
   "source": [
    "\n",
    "\n",
    "def embedded(array, E, tau):\n",
    "    for i in range(E):\n",
    "        lag=E*tau\n",
    "        axis[i,:]=array[i*lag:(i+1)*lag]\n",
    "\n",
    "\n",
    "    "
   ]
  }
 ],
 "metadata": {
  "language_info": {
   "name": "python"
  }
 },
 "nbformat": 4,
 "nbformat_minor": 2
}
